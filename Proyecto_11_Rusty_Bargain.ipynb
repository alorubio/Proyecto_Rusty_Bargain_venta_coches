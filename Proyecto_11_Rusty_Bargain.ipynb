{
 "cells": [
  {
   "cell_type": "markdown",
   "metadata": {},
   "source": [
    "El servicio de venta de autos usados Rusty Bargain está desarrollando una aplicación para atraer nuevos clientes. Gracias a esa app, puedes averiguar rápidamente el valor de mercado de tu coche. Tienes acceso al historial: especificaciones técnicas, versiones de equipamiento y precios. Tienes que crear un modelo que determine el valor de mercado.\n",
    "A Rusty Bargain le interesa:\n",
    "- la calidad de la predicción;\n",
    "- la velocidad de la predicción;\n",
    "- el tiempo requerido para el entrenamiento"
   ]
  },
  {
   "cell_type": "markdown",
   "metadata": {},
   "source": [
    "## Preparación de datos"
   ]
  },
  {
   "cell_type": "code",
   "execution_count": 1,
   "metadata": {},
   "outputs": [],
   "source": [
    "import numpy as np\n",
    "import pandas as pd\n",
    "import lightgbm as lgb\n",
    "import time\n",
    "\n",
    "import catboost as cb\n",
    "from catboost import CatBoostRegressor\n",
    "\n",
    "from sklearn.model_selection import train_test_split, GridSearchCV\n",
    "from sklearn.linear_model import LinearRegression\n",
    "from sklearn.ensemble import RandomForestRegressor\n",
    "from sklearn.tree import DecisionTreeRegressor\n",
    "from lightgbm import LGBMRegressor\n",
    "from sklearn.metrics import mean_squared_error\n",
    "from math import sqrt"
   ]
  },
  {
   "cell_type": "code",
   "execution_count": 2,
   "metadata": {},
   "outputs": [],
   "source": [
    "data = pd.read_csv('/datasets/car_data.csv')"
   ]
  },
  {
   "cell_type": "code",
   "execution_count": 3,
   "metadata": {},
   "outputs": [
    {
     "data": {
      "text/html": [
       "<div>\n",
       "<style scoped>\n",
       "    .dataframe tbody tr th:only-of-type {\n",
       "        vertical-align: middle;\n",
       "    }\n",
       "\n",
       "    .dataframe tbody tr th {\n",
       "        vertical-align: top;\n",
       "    }\n",
       "\n",
       "    .dataframe thead th {\n",
       "        text-align: right;\n",
       "    }\n",
       "</style>\n",
       "<table border=\"1\" class=\"dataframe\">\n",
       "  <thead>\n",
       "    <tr style=\"text-align: right;\">\n",
       "      <th></th>\n",
       "      <th>DateCrawled</th>\n",
       "      <th>Price</th>\n",
       "      <th>VehicleType</th>\n",
       "      <th>RegistrationYear</th>\n",
       "      <th>Gearbox</th>\n",
       "      <th>Power</th>\n",
       "      <th>Model</th>\n",
       "      <th>Mileage</th>\n",
       "      <th>RegistrationMonth</th>\n",
       "      <th>FuelType</th>\n",
       "      <th>Brand</th>\n",
       "      <th>NotRepaired</th>\n",
       "      <th>DateCreated</th>\n",
       "      <th>NumberOfPictures</th>\n",
       "      <th>PostalCode</th>\n",
       "      <th>LastSeen</th>\n",
       "    </tr>\n",
       "  </thead>\n",
       "  <tbody>\n",
       "    <tr>\n",
       "      <th>0</th>\n",
       "      <td>24/03/2016 11:52</td>\n",
       "      <td>480</td>\n",
       "      <td>NaN</td>\n",
       "      <td>1993</td>\n",
       "      <td>manual</td>\n",
       "      <td>0</td>\n",
       "      <td>golf</td>\n",
       "      <td>150000</td>\n",
       "      <td>0</td>\n",
       "      <td>petrol</td>\n",
       "      <td>volkswagen</td>\n",
       "      <td>NaN</td>\n",
       "      <td>24/03/2016 00:00</td>\n",
       "      <td>0</td>\n",
       "      <td>70435</td>\n",
       "      <td>07/04/2016 03:16</td>\n",
       "    </tr>\n",
       "    <tr>\n",
       "      <th>1</th>\n",
       "      <td>24/03/2016 10:58</td>\n",
       "      <td>18300</td>\n",
       "      <td>coupe</td>\n",
       "      <td>2011</td>\n",
       "      <td>manual</td>\n",
       "      <td>190</td>\n",
       "      <td>NaN</td>\n",
       "      <td>125000</td>\n",
       "      <td>5</td>\n",
       "      <td>gasoline</td>\n",
       "      <td>audi</td>\n",
       "      <td>yes</td>\n",
       "      <td>24/03/2016 00:00</td>\n",
       "      <td>0</td>\n",
       "      <td>66954</td>\n",
       "      <td>07/04/2016 01:46</td>\n",
       "    </tr>\n",
       "    <tr>\n",
       "      <th>2</th>\n",
       "      <td>14/03/2016 12:52</td>\n",
       "      <td>9800</td>\n",
       "      <td>suv</td>\n",
       "      <td>2004</td>\n",
       "      <td>auto</td>\n",
       "      <td>163</td>\n",
       "      <td>grand</td>\n",
       "      <td>125000</td>\n",
       "      <td>8</td>\n",
       "      <td>gasoline</td>\n",
       "      <td>jeep</td>\n",
       "      <td>NaN</td>\n",
       "      <td>14/03/2016 00:00</td>\n",
       "      <td>0</td>\n",
       "      <td>90480</td>\n",
       "      <td>05/04/2016 12:47</td>\n",
       "    </tr>\n",
       "    <tr>\n",
       "      <th>3</th>\n",
       "      <td>17/03/2016 16:54</td>\n",
       "      <td>1500</td>\n",
       "      <td>small</td>\n",
       "      <td>2001</td>\n",
       "      <td>manual</td>\n",
       "      <td>75</td>\n",
       "      <td>golf</td>\n",
       "      <td>150000</td>\n",
       "      <td>6</td>\n",
       "      <td>petrol</td>\n",
       "      <td>volkswagen</td>\n",
       "      <td>no</td>\n",
       "      <td>17/03/2016 00:00</td>\n",
       "      <td>0</td>\n",
       "      <td>91074</td>\n",
       "      <td>17/03/2016 17:40</td>\n",
       "    </tr>\n",
       "    <tr>\n",
       "      <th>4</th>\n",
       "      <td>31/03/2016 17:25</td>\n",
       "      <td>3600</td>\n",
       "      <td>small</td>\n",
       "      <td>2008</td>\n",
       "      <td>manual</td>\n",
       "      <td>69</td>\n",
       "      <td>fabia</td>\n",
       "      <td>90000</td>\n",
       "      <td>7</td>\n",
       "      <td>gasoline</td>\n",
       "      <td>skoda</td>\n",
       "      <td>no</td>\n",
       "      <td>31/03/2016 00:00</td>\n",
       "      <td>0</td>\n",
       "      <td>60437</td>\n",
       "      <td>06/04/2016 10:17</td>\n",
       "    </tr>\n",
       "  </tbody>\n",
       "</table>\n",
       "</div>"
      ],
      "text/plain": [
       "        DateCrawled  Price VehicleType  RegistrationYear Gearbox  Power  \\\n",
       "0  24/03/2016 11:52    480         NaN              1993  manual      0   \n",
       "1  24/03/2016 10:58  18300       coupe              2011  manual    190   \n",
       "2  14/03/2016 12:52   9800         suv              2004    auto    163   \n",
       "3  17/03/2016 16:54   1500       small              2001  manual     75   \n",
       "4  31/03/2016 17:25   3600       small              2008  manual     69   \n",
       "\n",
       "   Model  Mileage  RegistrationMonth  FuelType       Brand NotRepaired  \\\n",
       "0   golf   150000                  0    petrol  volkswagen         NaN   \n",
       "1    NaN   125000                  5  gasoline        audi         yes   \n",
       "2  grand   125000                  8  gasoline        jeep         NaN   \n",
       "3   golf   150000                  6    petrol  volkswagen          no   \n",
       "4  fabia    90000                  7  gasoline       skoda          no   \n",
       "\n",
       "        DateCreated  NumberOfPictures  PostalCode          LastSeen  \n",
       "0  24/03/2016 00:00                 0       70435  07/04/2016 03:16  \n",
       "1  24/03/2016 00:00                 0       66954  07/04/2016 01:46  \n",
       "2  14/03/2016 00:00                 0       90480  05/04/2016 12:47  \n",
       "3  17/03/2016 00:00                 0       91074  17/03/2016 17:40  \n",
       "4  31/03/2016 00:00                 0       60437  06/04/2016 10:17  "
      ]
     },
     "execution_count": 3,
     "metadata": {},
     "output_type": "execute_result"
    }
   ],
   "source": [
    "data.head()"
   ]
  },
  {
   "cell_type": "code",
   "execution_count": 4,
   "metadata": {},
   "outputs": [
    {
     "name": "stdout",
     "output_type": "stream",
     "text": [
      "<class 'pandas.core.frame.DataFrame'>\n",
      "RangeIndex: 354369 entries, 0 to 354368\n",
      "Data columns (total 16 columns):\n",
      " #   Column             Non-Null Count   Dtype \n",
      "---  ------             --------------   ----- \n",
      " 0   DateCrawled        354369 non-null  object\n",
      " 1   Price              354369 non-null  int64 \n",
      " 2   VehicleType        316879 non-null  object\n",
      " 3   RegistrationYear   354369 non-null  int64 \n",
      " 4   Gearbox            334536 non-null  object\n",
      " 5   Power              354369 non-null  int64 \n",
      " 6   Model              334664 non-null  object\n",
      " 7   Mileage            354369 non-null  int64 \n",
      " 8   RegistrationMonth  354369 non-null  int64 \n",
      " 9   FuelType           321474 non-null  object\n",
      " 10  Brand              354369 non-null  object\n",
      " 11  NotRepaired        283215 non-null  object\n",
      " 12  DateCreated        354369 non-null  object\n",
      " 13  NumberOfPictures   354369 non-null  int64 \n",
      " 14  PostalCode         354369 non-null  int64 \n",
      " 15  LastSeen           354369 non-null  object\n",
      "dtypes: int64(7), object(9)\n",
      "memory usage: 43.3+ MB\n"
     ]
    }
   ],
   "source": [
    "data.info()"
   ]
  },
  {
   "cell_type": "code",
   "execution_count": 5,
   "metadata": {},
   "outputs": [
    {
     "data": {
      "text/html": [
       "<div>\n",
       "<style scoped>\n",
       "    .dataframe tbody tr th:only-of-type {\n",
       "        vertical-align: middle;\n",
       "    }\n",
       "\n",
       "    .dataframe tbody tr th {\n",
       "        vertical-align: top;\n",
       "    }\n",
       "\n",
       "    .dataframe thead th {\n",
       "        text-align: right;\n",
       "    }\n",
       "</style>\n",
       "<table border=\"1\" class=\"dataframe\">\n",
       "  <thead>\n",
       "    <tr style=\"text-align: right;\">\n",
       "      <th></th>\n",
       "      <th>Price</th>\n",
       "      <th>RegistrationYear</th>\n",
       "      <th>Power</th>\n",
       "      <th>Mileage</th>\n",
       "      <th>RegistrationMonth</th>\n",
       "      <th>NumberOfPictures</th>\n",
       "      <th>PostalCode</th>\n",
       "    </tr>\n",
       "  </thead>\n",
       "  <tbody>\n",
       "    <tr>\n",
       "      <th>count</th>\n",
       "      <td>354369.000000</td>\n",
       "      <td>354369.000000</td>\n",
       "      <td>354369.000000</td>\n",
       "      <td>354369.000000</td>\n",
       "      <td>354369.000000</td>\n",
       "      <td>354369.0</td>\n",
       "      <td>354369.000000</td>\n",
       "    </tr>\n",
       "    <tr>\n",
       "      <th>mean</th>\n",
       "      <td>4416.656776</td>\n",
       "      <td>2004.234448</td>\n",
       "      <td>110.094337</td>\n",
       "      <td>128211.172535</td>\n",
       "      <td>5.714645</td>\n",
       "      <td>0.0</td>\n",
       "      <td>50508.689087</td>\n",
       "    </tr>\n",
       "    <tr>\n",
       "      <th>std</th>\n",
       "      <td>4514.158514</td>\n",
       "      <td>90.227958</td>\n",
       "      <td>189.850405</td>\n",
       "      <td>37905.341530</td>\n",
       "      <td>3.726421</td>\n",
       "      <td>0.0</td>\n",
       "      <td>25783.096248</td>\n",
       "    </tr>\n",
       "    <tr>\n",
       "      <th>min</th>\n",
       "      <td>0.000000</td>\n",
       "      <td>1000.000000</td>\n",
       "      <td>0.000000</td>\n",
       "      <td>5000.000000</td>\n",
       "      <td>0.000000</td>\n",
       "      <td>0.0</td>\n",
       "      <td>1067.000000</td>\n",
       "    </tr>\n",
       "    <tr>\n",
       "      <th>25%</th>\n",
       "      <td>1050.000000</td>\n",
       "      <td>1999.000000</td>\n",
       "      <td>69.000000</td>\n",
       "      <td>125000.000000</td>\n",
       "      <td>3.000000</td>\n",
       "      <td>0.0</td>\n",
       "      <td>30165.000000</td>\n",
       "    </tr>\n",
       "    <tr>\n",
       "      <th>50%</th>\n",
       "      <td>2700.000000</td>\n",
       "      <td>2003.000000</td>\n",
       "      <td>105.000000</td>\n",
       "      <td>150000.000000</td>\n",
       "      <td>6.000000</td>\n",
       "      <td>0.0</td>\n",
       "      <td>49413.000000</td>\n",
       "    </tr>\n",
       "    <tr>\n",
       "      <th>75%</th>\n",
       "      <td>6400.000000</td>\n",
       "      <td>2008.000000</td>\n",
       "      <td>143.000000</td>\n",
       "      <td>150000.000000</td>\n",
       "      <td>9.000000</td>\n",
       "      <td>0.0</td>\n",
       "      <td>71083.000000</td>\n",
       "    </tr>\n",
       "    <tr>\n",
       "      <th>max</th>\n",
       "      <td>20000.000000</td>\n",
       "      <td>9999.000000</td>\n",
       "      <td>20000.000000</td>\n",
       "      <td>150000.000000</td>\n",
       "      <td>12.000000</td>\n",
       "      <td>0.0</td>\n",
       "      <td>99998.000000</td>\n",
       "    </tr>\n",
       "  </tbody>\n",
       "</table>\n",
       "</div>"
      ],
      "text/plain": [
       "               Price  RegistrationYear          Power        Mileage  \\\n",
       "count  354369.000000     354369.000000  354369.000000  354369.000000   \n",
       "mean     4416.656776       2004.234448     110.094337  128211.172535   \n",
       "std      4514.158514         90.227958     189.850405   37905.341530   \n",
       "min         0.000000       1000.000000       0.000000    5000.000000   \n",
       "25%      1050.000000       1999.000000      69.000000  125000.000000   \n",
       "50%      2700.000000       2003.000000     105.000000  150000.000000   \n",
       "75%      6400.000000       2008.000000     143.000000  150000.000000   \n",
       "max     20000.000000       9999.000000   20000.000000  150000.000000   \n",
       "\n",
       "       RegistrationMonth  NumberOfPictures     PostalCode  \n",
       "count      354369.000000          354369.0  354369.000000  \n",
       "mean            5.714645               0.0   50508.689087  \n",
       "std             3.726421               0.0   25783.096248  \n",
       "min             0.000000               0.0    1067.000000  \n",
       "25%             3.000000               0.0   30165.000000  \n",
       "50%             6.000000               0.0   49413.000000  \n",
       "75%             9.000000               0.0   71083.000000  \n",
       "max            12.000000               0.0   99998.000000  "
      ]
     },
     "execution_count": 5,
     "metadata": {},
     "output_type": "execute_result"
    }
   ],
   "source": [
    "data.describe()"
   ]
  },
  {
   "cell_type": "code",
   "execution_count": 6,
   "metadata": {},
   "outputs": [
    {
     "data": {
      "text/html": [
       "<div>\n",
       "<style scoped>\n",
       "    .dataframe tbody tr th:only-of-type {\n",
       "        vertical-align: middle;\n",
       "    }\n",
       "\n",
       "    .dataframe tbody tr th {\n",
       "        vertical-align: top;\n",
       "    }\n",
       "\n",
       "    .dataframe thead th {\n",
       "        text-align: right;\n",
       "    }\n",
       "</style>\n",
       "<table border=\"1\" class=\"dataframe\">\n",
       "  <thead>\n",
       "    <tr style=\"text-align: right;\">\n",
       "      <th></th>\n",
       "      <th>DateCrawled</th>\n",
       "      <th>Price</th>\n",
       "      <th>VehicleType</th>\n",
       "      <th>RegistrationYear</th>\n",
       "      <th>Gearbox</th>\n",
       "      <th>Power</th>\n",
       "      <th>Model</th>\n",
       "      <th>Mileage</th>\n",
       "      <th>RegistrationMonth</th>\n",
       "      <th>FuelType</th>\n",
       "      <th>Brand</th>\n",
       "      <th>NotRepaired</th>\n",
       "      <th>DateCreated</th>\n",
       "      <th>NumberOfPictures</th>\n",
       "      <th>PostalCode</th>\n",
       "      <th>LastSeen</th>\n",
       "    </tr>\n",
       "  </thead>\n",
       "  <tbody>\n",
       "    <tr>\n",
       "      <th>0</th>\n",
       "      <td>24/03/2016 11:52</td>\n",
       "      <td>480</td>\n",
       "      <td>NaN</td>\n",
       "      <td>1993</td>\n",
       "      <td>manual</td>\n",
       "      <td>0</td>\n",
       "      <td>golf</td>\n",
       "      <td>150000</td>\n",
       "      <td>0</td>\n",
       "      <td>petrol</td>\n",
       "      <td>volkswagen</td>\n",
       "      <td>0.0</td>\n",
       "      <td>24/03/2016 00:00</td>\n",
       "      <td>0</td>\n",
       "      <td>70435</td>\n",
       "      <td>07/04/2016 03:16</td>\n",
       "    </tr>\n",
       "    <tr>\n",
       "      <th>1</th>\n",
       "      <td>24/03/2016 10:58</td>\n",
       "      <td>18300</td>\n",
       "      <td>coupe</td>\n",
       "      <td>2011</td>\n",
       "      <td>manual</td>\n",
       "      <td>190</td>\n",
       "      <td>NaN</td>\n",
       "      <td>125000</td>\n",
       "      <td>5</td>\n",
       "      <td>gasoline</td>\n",
       "      <td>audi</td>\n",
       "      <td>1.0</td>\n",
       "      <td>24/03/2016 00:00</td>\n",
       "      <td>0</td>\n",
       "      <td>66954</td>\n",
       "      <td>07/04/2016 01:46</td>\n",
       "    </tr>\n",
       "    <tr>\n",
       "      <th>2</th>\n",
       "      <td>14/03/2016 12:52</td>\n",
       "      <td>9800</td>\n",
       "      <td>suv</td>\n",
       "      <td>2004</td>\n",
       "      <td>auto</td>\n",
       "      <td>163</td>\n",
       "      <td>grand</td>\n",
       "      <td>125000</td>\n",
       "      <td>8</td>\n",
       "      <td>gasoline</td>\n",
       "      <td>jeep</td>\n",
       "      <td>0.0</td>\n",
       "      <td>14/03/2016 00:00</td>\n",
       "      <td>0</td>\n",
       "      <td>90480</td>\n",
       "      <td>05/04/2016 12:47</td>\n",
       "    </tr>\n",
       "    <tr>\n",
       "      <th>3</th>\n",
       "      <td>17/03/2016 16:54</td>\n",
       "      <td>1500</td>\n",
       "      <td>small</td>\n",
       "      <td>2001</td>\n",
       "      <td>manual</td>\n",
       "      <td>75</td>\n",
       "      <td>golf</td>\n",
       "      <td>150000</td>\n",
       "      <td>6</td>\n",
       "      <td>petrol</td>\n",
       "      <td>volkswagen</td>\n",
       "      <td>0.0</td>\n",
       "      <td>17/03/2016 00:00</td>\n",
       "      <td>0</td>\n",
       "      <td>91074</td>\n",
       "      <td>17/03/2016 17:40</td>\n",
       "    </tr>\n",
       "    <tr>\n",
       "      <th>4</th>\n",
       "      <td>31/03/2016 17:25</td>\n",
       "      <td>3600</td>\n",
       "      <td>small</td>\n",
       "      <td>2008</td>\n",
       "      <td>manual</td>\n",
       "      <td>69</td>\n",
       "      <td>fabia</td>\n",
       "      <td>90000</td>\n",
       "      <td>7</td>\n",
       "      <td>gasoline</td>\n",
       "      <td>skoda</td>\n",
       "      <td>0.0</td>\n",
       "      <td>31/03/2016 00:00</td>\n",
       "      <td>0</td>\n",
       "      <td>60437</td>\n",
       "      <td>06/04/2016 10:17</td>\n",
       "    </tr>\n",
       "  </tbody>\n",
       "</table>\n",
       "</div>"
      ],
      "text/plain": [
       "        DateCrawled  Price VehicleType  RegistrationYear Gearbox  Power  \\\n",
       "0  24/03/2016 11:52    480         NaN              1993  manual      0   \n",
       "1  24/03/2016 10:58  18300       coupe              2011  manual    190   \n",
       "2  14/03/2016 12:52   9800         suv              2004    auto    163   \n",
       "3  17/03/2016 16:54   1500       small              2001  manual     75   \n",
       "4  31/03/2016 17:25   3600       small              2008  manual     69   \n",
       "\n",
       "   Model  Mileage  RegistrationMonth  FuelType       Brand  NotRepaired  \\\n",
       "0   golf   150000                  0    petrol  volkswagen          0.0   \n",
       "1    NaN   125000                  5  gasoline        audi          1.0   \n",
       "2  grand   125000                  8  gasoline        jeep          0.0   \n",
       "3   golf   150000                  6    petrol  volkswagen          0.0   \n",
       "4  fabia    90000                  7  gasoline       skoda          0.0   \n",
       "\n",
       "        DateCreated  NumberOfPictures  PostalCode          LastSeen  \n",
       "0  24/03/2016 00:00                 0       70435  07/04/2016 03:16  \n",
       "1  24/03/2016 00:00                 0       66954  07/04/2016 01:46  \n",
       "2  14/03/2016 00:00                 0       90480  05/04/2016 12:47  \n",
       "3  17/03/2016 00:00                 0       91074  17/03/2016 17:40  \n",
       "4  31/03/2016 00:00                 0       60437  06/04/2016 10:17  "
      ]
     },
     "execution_count": 6,
     "metadata": {},
     "output_type": "execute_result"
    }
   ],
   "source": [
    "# Se sustituyen los valores en la columna NotRepaired (No, Yes) por valores binarios 0, 1 para que la data sea más manejable\n",
    "# a la hora del entrenamiento, así como también se tratan los NaN's de la misma columna sustituyendo por 0\n",
    "\n",
    "data['NotRepaired'] = data['NotRepaired'].replace('yes', 1)\n",
    "data['NotRepaired'] = data['NotRepaired'].replace('no', 0)\n",
    "data['NotRepaired'] = data['NotRepaired'].fillna(0)\n",
    "\n",
    "data.head()"
   ]
  },
  {
   "cell_type": "code",
   "execution_count": 7,
   "metadata": {},
   "outputs": [
    {
     "data": {
      "text/plain": [
       "VehicleType          10.58\n",
       "FuelType              9.28\n",
       "Gearbox               5.60\n",
       "Model                 5.56\n",
       "DateCrawled           0.00\n",
       "Price                 0.00\n",
       "RegistrationYear      0.00\n",
       "Power                 0.00\n",
       "Mileage               0.00\n",
       "RegistrationMonth     0.00\n",
       "Brand                 0.00\n",
       "NotRepaired           0.00\n",
       "DateCreated           0.00\n",
       "NumberOfPictures      0.00\n",
       "PostalCode            0.00\n",
       "LastSeen              0.00\n",
       "dtype: float64"
      ]
     },
     "execution_count": 7,
     "metadata": {},
     "output_type": "execute_result"
    }
   ],
   "source": [
    "# Se verifica si hay valores nulos, y que porcentaje ocupan, para saber como se tratarán\n",
    "\n",
    "(data.isnull().sum() / len(data)*100).round(2).sort_values(ascending=False)"
   ]
  },
  {
   "cell_type": "markdown",
   "metadata": {},
   "source": [
    "Podemos visualizar que las columnas donde hay valores ausentes son columnas con valores cualitativos que no afectan el entrenamiento del modelo, por lo tanto, no se imputan los valores ausentes."
   ]
  },
  {
   "cell_type": "code",
   "execution_count": 8,
   "metadata": {},
   "outputs": [
    {
     "data": {
      "text/plain": [
       "291"
      ]
     },
     "execution_count": 8,
     "metadata": {},
     "output_type": "execute_result"
    }
   ],
   "source": [
    "# Se verifica si hay valores duplicados y cuantos hay\n",
    "\n",
    "data.duplicated().sum()"
   ]
  },
  {
   "cell_type": "markdown",
   "metadata": {},
   "source": [
    "Se encuentran algunos valores duplicados y para no alterar el entrenamiento del modelo se decide eliminar los valores duplicados. Adicionalmente, son muy pocos valores ausentes comparados con el total de filas del dataframe."
   ]
  },
  {
   "cell_type": "code",
   "execution_count": 9,
   "metadata": {},
   "outputs": [],
   "source": [
    "data = data.drop_duplicates()"
   ]
  },
  {
   "cell_type": "code",
   "execution_count": 10,
   "metadata": {},
   "outputs": [
    {
     "data": {
      "text/plain": [
       "0"
      ]
     },
     "execution_count": 10,
     "metadata": {},
     "output_type": "execute_result"
    }
   ],
   "source": [
    "data.duplicated().sum()"
   ]
  },
  {
   "cell_type": "code",
   "execution_count": 11,
   "metadata": {},
   "outputs": [
    {
     "data": {
      "text/plain": [
       "array([1993, 2011, 2004, 2001, 2008, 1995, 1980, 2014, 1998, 2005, 1910,\n",
       "       2016, 2007, 2009, 2002, 2018, 1997, 1990, 2017, 1981, 2003, 1994,\n",
       "       1991, 1984, 2006, 1999, 2012, 2010, 2000, 1992, 2013, 1996, 1985,\n",
       "       1989, 2015, 1982, 1976, 1983, 1973, 1111, 1969, 1971, 1987, 1986,\n",
       "       1988, 1970, 1965, 1945, 1925, 1974, 1979, 1955, 1978, 1972, 1968,\n",
       "       1977, 1961, 1960, 1966, 1975, 1963, 1964, 5000, 1954, 1958, 1967,\n",
       "       1959, 9999, 1956, 3200, 1000, 1941, 8888, 1500, 2200, 4100, 1962,\n",
       "       1929, 1957, 1940, 3000, 2066, 1949, 2019, 1937, 1951, 1800, 1953,\n",
       "       1234, 8000, 5300, 9000, 2900, 6000, 5900, 5911, 1933, 1400, 1950,\n",
       "       4000, 1948, 1952, 1200, 8500, 1932, 1255, 3700, 3800, 4800, 1942,\n",
       "       7000, 1935, 1936, 6500, 1923, 2290, 2500, 1930, 1001, 9450, 1944,\n",
       "       1943, 1934, 1938, 1688, 2800, 1253, 1928, 1919, 5555, 5600, 1600,\n",
       "       2222, 1039, 9996, 1300, 8455, 1931, 1915, 4500, 1920, 1602, 7800,\n",
       "       9229, 1947, 1927, 7100, 8200, 1946, 7500, 3500])"
      ]
     },
     "execution_count": 11,
     "metadata": {},
     "output_type": "execute_result"
    }
   ],
   "source": [
    "data['RegistrationYear'].unique()"
   ]
  },
  {
   "cell_type": "code",
   "execution_count": 12,
   "metadata": {},
   "outputs": [
    {
     "data": {
      "text/plain": [
       "array([1993, 2011, 2004, 2001, 2008, 1995, 1980, 2014, 1998, 2005, 1910,\n",
       "       2016, 2007, 2009, 2002, 2018, 1997, 1990, 2017, 1981, 2003, 1994,\n",
       "       1991, 1984, 2006, 1999, 2012, 2010, 2000, 1992, 2013, 1996, 1985,\n",
       "       1989, 2015, 1982, 1976, 1983, 1973, 1969, 1971, 1987, 1986, 1988,\n",
       "       1970, 1965, 1945, 1925, 1974, 1979, 1955, 1978, 1972, 1968, 1977,\n",
       "       1961, 1960, 1966, 1975, 1963, 1964, 1954, 1958, 1967, 1959, 1956,\n",
       "       1941, 1962, 1929, 1957, 1940, 1949, 2019, 1937, 1951, 1953, 1933,\n",
       "       1950, 1948, 1952, 1932, 1942, 1935, 1936, 1923, 1930, 1944, 1943,\n",
       "       1934, 1938, 1928, 1919, 1931, 1915, 1920, 1947, 1927, 1946])"
      ]
     },
     "execution_count": 12,
     "metadata": {},
     "output_type": "execute_result"
    }
   ],
   "source": [
    "data=data[(data['RegistrationYear'] <= 2025) & (data['RegistrationYear'] >= 1910)]\n",
    "data['RegistrationYear'].unique()"
   ]
  },
  {
   "cell_type": "code",
   "execution_count": 13,
   "metadata": {},
   "outputs": [],
   "source": [
    "data.reset_index(inplace=True)"
   ]
  },
  {
   "cell_type": "code",
   "execution_count": 14,
   "metadata": {},
   "outputs": [
    {
     "name": "stdout",
     "output_type": "stream",
     "text": [
      "<class 'pandas.core.frame.DataFrame'>\n",
      "RangeIndex: 353907 entries, 0 to 353906\n",
      "Data columns (total 17 columns):\n",
      " #   Column             Non-Null Count   Dtype  \n",
      "---  ------             --------------   -----  \n",
      " 0   index              353907 non-null  int64  \n",
      " 1   DateCrawled        353907 non-null  object \n",
      " 2   Price              353907 non-null  int64  \n",
      " 3   VehicleType        316594 non-null  object \n",
      " 4   RegistrationYear   353907 non-null  int64  \n",
      " 5   Gearbox            334215 non-null  object \n",
      " 6   Power              353907 non-null  int64  \n",
      " 7   Model              334281 non-null  object \n",
      " 8   Mileage            353907 non-null  int64  \n",
      " 9   RegistrationMonth  353907 non-null  int64  \n",
      " 10  FuelType           321146 non-null  object \n",
      " 11  Brand              353907 non-null  object \n",
      " 12  NotRepaired        353907 non-null  float64\n",
      " 13  DateCreated        353907 non-null  object \n",
      " 14  NumberOfPictures   353907 non-null  int64  \n",
      " 15  PostalCode         353907 non-null  int64  \n",
      " 16  LastSeen           353907 non-null  object \n",
      "dtypes: float64(1), int64(8), object(8)\n",
      "memory usage: 45.9+ MB\n"
     ]
    }
   ],
   "source": [
    "data.info()"
   ]
  },
  {
   "cell_type": "markdown",
   "metadata": {},
   "source": [
    "## Entrenamiento del modelo "
   ]
  },
  {
   "cell_type": "code",
   "execution_count": 15,
   "metadata": {},
   "outputs": [
    {
     "name": "stdout",
     "output_type": "stream",
     "text": [
      "['manual' 'auto' nan]\n",
      "['petrol' 'gasoline' nan 'lpg' 'other' 'hybrid' 'cng' 'electric']\n"
     ]
    }
   ],
   "source": [
    "# Codificación OHE\n",
    "\n",
    "print(data['Gearbox'].unique())\n",
    "print(data['FuelType'].unique())"
   ]
  },
  {
   "cell_type": "code",
   "execution_count": 16,
   "metadata": {},
   "outputs": [
    {
     "data": {
      "text/html": [
       "<div>\n",
       "<style scoped>\n",
       "    .dataframe tbody tr th:only-of-type {\n",
       "        vertical-align: middle;\n",
       "    }\n",
       "\n",
       "    .dataframe tbody tr th {\n",
       "        vertical-align: top;\n",
       "    }\n",
       "\n",
       "    .dataframe thead th {\n",
       "        text-align: right;\n",
       "    }\n",
       "</style>\n",
       "<table border=\"1\" class=\"dataframe\">\n",
       "  <thead>\n",
       "    <tr style=\"text-align: right;\">\n",
       "      <th></th>\n",
       "      <th>index</th>\n",
       "      <th>DateCrawled</th>\n",
       "      <th>Price</th>\n",
       "      <th>VehicleType</th>\n",
       "      <th>RegistrationYear</th>\n",
       "      <th>Power</th>\n",
       "      <th>Model</th>\n",
       "      <th>Mileage</th>\n",
       "      <th>RegistrationMonth</th>\n",
       "      <th>Brand</th>\n",
       "      <th>...</th>\n",
       "      <th>NumberOfPictures</th>\n",
       "      <th>PostalCode</th>\n",
       "      <th>LastSeen</th>\n",
       "      <th>Gearbox_manual</th>\n",
       "      <th>FuelType_electric</th>\n",
       "      <th>FuelType_gasoline</th>\n",
       "      <th>FuelType_hybrid</th>\n",
       "      <th>FuelType_lpg</th>\n",
       "      <th>FuelType_other</th>\n",
       "      <th>FuelType_petrol</th>\n",
       "    </tr>\n",
       "  </thead>\n",
       "  <tbody>\n",
       "    <tr>\n",
       "      <th>235452</th>\n",
       "      <td>235707</td>\n",
       "      <td>30/03/2016 19:54</td>\n",
       "      <td>16000</td>\n",
       "      <td>bus</td>\n",
       "      <td>2012</td>\n",
       "      <td>140</td>\n",
       "      <td>touran</td>\n",
       "      <td>100000</td>\n",
       "      <td>1</td>\n",
       "      <td>volkswagen</td>\n",
       "      <td>...</td>\n",
       "      <td>0</td>\n",
       "      <td>46342</td>\n",
       "      <td>01/04/2016 14:46</td>\n",
       "      <td>0</td>\n",
       "      <td>0</td>\n",
       "      <td>1</td>\n",
       "      <td>0</td>\n",
       "      <td>0</td>\n",
       "      <td>0</td>\n",
       "      <td>0</td>\n",
       "    </tr>\n",
       "    <tr>\n",
       "      <th>254618</th>\n",
       "      <td>254901</td>\n",
       "      <td>28/03/2016 22:57</td>\n",
       "      <td>1950</td>\n",
       "      <td>suv</td>\n",
       "      <td>1994</td>\n",
       "      <td>116</td>\n",
       "      <td>other</td>\n",
       "      <td>150000</td>\n",
       "      <td>5</td>\n",
       "      <td>opel</td>\n",
       "      <td>...</td>\n",
       "      <td>0</td>\n",
       "      <td>69234</td>\n",
       "      <td>29/03/2016 06:43</td>\n",
       "      <td>1</td>\n",
       "      <td>0</td>\n",
       "      <td>0</td>\n",
       "      <td>0</td>\n",
       "      <td>0</td>\n",
       "      <td>0</td>\n",
       "      <td>1</td>\n",
       "    </tr>\n",
       "    <tr>\n",
       "      <th>30800</th>\n",
       "      <td>30817</td>\n",
       "      <td>11/03/2016 21:56</td>\n",
       "      <td>3800</td>\n",
       "      <td>NaN</td>\n",
       "      <td>2005</td>\n",
       "      <td>0</td>\n",
       "      <td>s_klasse</td>\n",
       "      <td>150000</td>\n",
       "      <td>0</td>\n",
       "      <td>mercedes_benz</td>\n",
       "      <td>...</td>\n",
       "      <td>0</td>\n",
       "      <td>31319</td>\n",
       "      <td>06/04/2016 22:16</td>\n",
       "      <td>0</td>\n",
       "      <td>0</td>\n",
       "      <td>0</td>\n",
       "      <td>0</td>\n",
       "      <td>0</td>\n",
       "      <td>0</td>\n",
       "      <td>1</td>\n",
       "    </tr>\n",
       "    <tr>\n",
       "      <th>185999</th>\n",
       "      <td>186182</td>\n",
       "      <td>12/03/2016 17:44</td>\n",
       "      <td>5000</td>\n",
       "      <td>small</td>\n",
       "      <td>2009</td>\n",
       "      <td>68</td>\n",
       "      <td>aygo</td>\n",
       "      <td>40000</td>\n",
       "      <td>8</td>\n",
       "      <td>toyota</td>\n",
       "      <td>...</td>\n",
       "      <td>0</td>\n",
       "      <td>57489</td>\n",
       "      <td>07/04/2016 08:45</td>\n",
       "      <td>1</td>\n",
       "      <td>0</td>\n",
       "      <td>0</td>\n",
       "      <td>0</td>\n",
       "      <td>0</td>\n",
       "      <td>0</td>\n",
       "      <td>1</td>\n",
       "    </tr>\n",
       "    <tr>\n",
       "      <th>10706</th>\n",
       "      <td>10707</td>\n",
       "      <td>20/03/2016 12:42</td>\n",
       "      <td>2350</td>\n",
       "      <td>small</td>\n",
       "      <td>2006</td>\n",
       "      <td>0</td>\n",
       "      <td>1_reihe</td>\n",
       "      <td>100000</td>\n",
       "      <td>7</td>\n",
       "      <td>peugeot</td>\n",
       "      <td>...</td>\n",
       "      <td>0</td>\n",
       "      <td>41462</td>\n",
       "      <td>20/03/2016 12:42</td>\n",
       "      <td>1</td>\n",
       "      <td>0</td>\n",
       "      <td>0</td>\n",
       "      <td>0</td>\n",
       "      <td>0</td>\n",
       "      <td>0</td>\n",
       "      <td>1</td>\n",
       "    </tr>\n",
       "  </tbody>\n",
       "</table>\n",
       "<p>5 rows × 22 columns</p>\n",
       "</div>"
      ],
      "text/plain": [
       "         index       DateCrawled  Price VehicleType  RegistrationYear  Power  \\\n",
       "235452  235707  30/03/2016 19:54  16000         bus              2012    140   \n",
       "254618  254901  28/03/2016 22:57   1950         suv              1994    116   \n",
       "30800    30817  11/03/2016 21:56   3800         NaN              2005      0   \n",
       "185999  186182  12/03/2016 17:44   5000       small              2009     68   \n",
       "10706    10707  20/03/2016 12:42   2350       small              2006      0   \n",
       "\n",
       "           Model  Mileage  RegistrationMonth          Brand  ...  \\\n",
       "235452    touran   100000                  1     volkswagen  ...   \n",
       "254618     other   150000                  5           opel  ...   \n",
       "30800   s_klasse   150000                  0  mercedes_benz  ...   \n",
       "185999      aygo    40000                  8         toyota  ...   \n",
       "10706    1_reihe   100000                  7        peugeot  ...   \n",
       "\n",
       "        NumberOfPictures PostalCode          LastSeen  Gearbox_manual  \\\n",
       "235452                 0      46342  01/04/2016 14:46               0   \n",
       "254618                 0      69234  29/03/2016 06:43               1   \n",
       "30800                  0      31319  06/04/2016 22:16               0   \n",
       "185999                 0      57489  07/04/2016 08:45               1   \n",
       "10706                  0      41462  20/03/2016 12:42               1   \n",
       "\n",
       "       FuelType_electric  FuelType_gasoline  FuelType_hybrid  FuelType_lpg  \\\n",
       "235452                 0                  1                0             0   \n",
       "254618                 0                  0                0             0   \n",
       "30800                  0                  0                0             0   \n",
       "185999                 0                  0                0             0   \n",
       "10706                  0                  0                0             0   \n",
       "\n",
       "        FuelType_other  FuelType_petrol  \n",
       "235452               0                0  \n",
       "254618               0                1  \n",
       "30800                0                1  \n",
       "185999               0                1  \n",
       "10706                0                1  \n",
       "\n",
       "[5 rows x 22 columns]"
      ]
     },
     "execution_count": 16,
     "metadata": {},
     "output_type": "execute_result"
    }
   ],
   "source": [
    "data_ohe = pd.get_dummies(data, columns=['Gearbox', 'FuelType'], drop_first=True, dtype = int)\n",
    "\n",
    "data_ohe.sample(5)"
   ]
  },
  {
   "cell_type": "code",
   "execution_count": 17,
   "metadata": {},
   "outputs": [],
   "source": [
    "features = data_ohe[['RegistrationYear','Power','Mileage','NotRepaired', 'Gearbox_manual', 'FuelType_electric', 'FuelType_gasoline', 'FuelType_hybrid', 'FuelType_lpg', 'FuelType_other', 'FuelType_petrol']]\n",
    "target = data['Price']"
   ]
  },
  {
   "cell_type": "code",
   "execution_count": 18,
   "metadata": {},
   "outputs": [],
   "source": [
    "# Se divide el dataframe en entrenamiento, prueba y validación\n",
    "\n",
    "features_train, features_test, target_train, target_test = train_test_split(features, target, test_size=0.2, random_state=42)\n",
    "features_train, features_val, target_train, target_val = train_test_split(features_train, target_train, test_size=0.25, random_state=12345)"
   ]
  },
  {
   "cell_type": "code",
   "execution_count": 19,
   "metadata": {},
   "outputs": [
    {
     "name": "stdout",
     "output_type": "stream",
     "text": [
      "CPU times: user 2 µs, sys: 1 µs, total: 3 µs\n",
      "Wall time: 5.72 µs\n"
     ]
    }
   ],
   "source": [
    "# Regresión Lineal\n",
    "\n",
    "%time\n",
    "#start_time=time.time()\n",
    "\n",
    "lr = LinearRegression()\n",
    "lr.fit(features_train, target_train)\n",
    "pred_lr = lr.predict(features_val)\n",
    "\n",
    "#end_time=time.time()\n",
    "#total_time=end_time - start_time\n",
    "#print(total_time)"
   ]
  },
  {
   "cell_type": "code",
   "execution_count": 20,
   "metadata": {},
   "outputs": [
    {
     "name": "stdout",
     "output_type": "stream",
     "text": [
      "CPU times: user 9 µs, sys: 3 µs, total: 12 µs\n",
      "Wall time: 4.77 µs\n"
     ]
    }
   ],
   "source": [
    "# Arbol de decisión\n",
    "\n",
    "%time\n",
    "\n",
    "model = DecisionTreeRegressor(random_state=42)\n",
    "param_grid = {\n",
    "    'max_depth': [None, 10, 20, 30],\n",
    "    'min_samples_split': [2, 10, 20],\n",
    "    'min_samples_leaf': [1, 5, 10]\n",
    "}\n",
    "\n",
    "grid_search = GridSearchCV(model, param_grid, cv=5, scoring='neg_mean_squared_error')\n",
    "grid_search.fit(features_train, target_train)\n",
    "\n",
    "best_params = grid_search.best_params_\n",
    "best_model = grid_search.best_estimator_\n",
    "\n",
    "pred_dt = best_model.predict(features_val)"
   ]
  },
  {
   "cell_type": "code",
   "execution_count": 21,
   "metadata": {},
   "outputs": [
    {
     "name": "stdout",
     "output_type": "stream",
     "text": [
      "CPU times: user 2 µs, sys: 0 ns, total: 2 µs\n",
      "Wall time: 4.05 µs\n"
     ]
    }
   ],
   "source": [
    "# LightGBM\n",
    "\n",
    "%time\n",
    "\n",
    "lgbm = LGBMRegressor(random_state=42)\n",
    "\n",
    "# Se define la matriz de hiperparámetros a probar\n",
    "param_grid_lgbm = {\n",
    "    'n_estimators': [100, 200],\n",
    "    'learning_rate': [0.1, 0.01],\n",
    "}\n",
    "\n",
    "grid_search_lgbm = GridSearchCV(lgbm, param_grid_lgbm, cv=3, scoring='neg_mean_squared_error')\n",
    "grid_search_lgbm.fit(features_train, target_train)\n",
    "\n",
    "pred_lgbm = grid_search_lgbm.predict(features_val)"
   ]
  },
  {
   "cell_type": "code",
   "execution_count": 22,
   "metadata": {},
   "outputs": [
    {
     "name": "stdout",
     "output_type": "stream",
     "text": [
      "CPU times: user 3 µs, sys: 0 ns, total: 3 µs\n",
      "Wall time: 5.48 µs\n"
     ]
    }
   ],
   "source": [
    "# CatBoosRegressor\n",
    "\n",
    "%time\n",
    "\n",
    "model = CatBoostRegressor(iterations=500, learning_rate=0.1, depth=6, verbose=0)\n",
    "model.fit(features_train, target_train) \n",
    "\n",
    "pred_cboost = model.predict(features_val)"
   ]
  },
  {
   "cell_type": "markdown",
   "metadata": {},
   "source": [
    "## Análisis del modelo"
   ]
  },
  {
   "cell_type": "code",
   "execution_count": 23,
   "metadata": {},
   "outputs": [
    {
     "name": "stdout",
     "output_type": "stream",
     "text": [
      "RMSE para Regresión Lineal: 5250.645420451536\n"
     ]
    }
   ],
   "source": [
    "# Regresión Lineal\n",
    "\n",
    "rmse_lr = mean_squared_error(target_test, pred_lr,squared=False)\n",
    "print(f'RMSE para Regresión Lineal: {rmse_lr}')"
   ]
  },
  {
   "cell_type": "code",
   "execution_count": 24,
   "metadata": {},
   "outputs": [
    {
     "name": "stdout",
     "output_type": "stream",
     "text": [
      "RMSE para Bosque Aleatorio: 6095.267654622543\n"
     ]
    }
   ],
   "source": [
    "# Arbol de decisión\n",
    "\n",
    "rmse_dt = mean_squared_error(target_test, pred_dt, squared=False)\n",
    "print(f'RMSE para Bosque Aleatorio: {rmse_dt}')"
   ]
  },
  {
   "cell_type": "code",
   "execution_count": 25,
   "metadata": {},
   "outputs": [
    {
     "name": "stdout",
     "output_type": "stream",
     "text": [
      "RMSE para LightGBM: 6027.631268773323\n"
     ]
    }
   ],
   "source": [
    "# LightGBM\n",
    "\n",
    "rmse_lgbm = mean_squared_error(target_test, pred_lgbm, squared=False)\n",
    "print(f'RMSE para LightGBM: {rmse_lgbm}')"
   ]
  },
  {
   "cell_type": "code",
   "execution_count": 26,
   "metadata": {},
   "outputs": [
    {
     "name": "stdout",
     "output_type": "stream",
     "text": [
      "RMSE para CatBoostRegressor: 6022.354636161281\n"
     ]
    }
   ],
   "source": [
    "# CatBoostRegressor\n",
    "\n",
    "rmse_cboost = mean_squared_error(target_test, pred_cboost, squared=False)\n",
    "\n",
    "print(f\"RMSE para CatBoostRegressor: {rmse_cboost}\")"
   ]
  },
  {
   "cell_type": "markdown",
   "metadata": {},
   "source": [
    "Como podemos visualizar, en el apartado de entrenamiento de los modelos, tanto la regresión lineal como catboostregressor son los que lograron menos tiempo de entrenamiento, seguido por lighgbm y por último el modelo de árboles de decisión. La diferencia es considerable entre los diferentes modelos, sin embargo en donde destaca el modelo lightgbm en en su calidad, ya que fue la que mejor respuesta arrojo al realizar el análisis. Hasta este punto, el model lightgbm parece no superar al modelo de regresión lineal, por lo que se procederá a realizar un análisis de ambos en el conjunto de test para comprobarlo."
   ]
  },
  {
   "cell_type": "markdown",
   "metadata": {},
   "source": [
    "## Evaluación del mejor modelo"
   ]
  },
  {
   "cell_type": "code",
   "execution_count": 27,
   "metadata": {},
   "outputs": [
    {
     "name": "stdout",
     "output_type": "stream",
     "text": [
      "RMSE para Regresión Lineal: 5250.645420451536\n"
     ]
    }
   ],
   "source": [
    "# Regresión lineal\n",
    "\n",
    "pred_lr = lr.predict(features_val)\n",
    "rmse_lr = mean_squared_error(target_test, pred_lr,squared=False)\n",
    "print(f'RMSE para Regresión Lineal: {rmse_lr}')"
   ]
  },
  {
   "cell_type": "code",
   "execution_count": 28,
   "metadata": {},
   "outputs": [
    {
     "name": "stdout",
     "output_type": "stream",
     "text": [
      "RMSE para LightGBM: 2118.8790340552796\n"
     ]
    }
   ],
   "source": [
    "#LightGBM\n",
    "\n",
    "pred_lgbm = grid_search_lgbm.predict(features_test)\n",
    "rmse_lgbm = mean_squared_error(target_test, pred_lgbm, squared=False)\n",
    "print(f'RMSE para LightGBM: {rmse_lgbm}')"
   ]
  },
  {
   "cell_type": "markdown",
   "metadata": {},
   "source": [
    "Como podemos visualizar, el modelo de regresión lineal es el que lleva menos tiempo, haciendolo ver el más efectivo hasta ese punto, sin embargo al realizar la evaluación con el conjunto de test se puede observar que el modelo lightgbm obtuvo mejores resultados, por lo tanto, el modelo más recomendable a utilizar para esta aplicación sería LightGBM."
   ]
  },
  {
   "cell_type": "markdown",
   "metadata": {},
   "source": [
    "## Conclusiones"
   ]
  },
  {
   "cell_type": "markdown",
   "metadata": {},
   "source": [
    "Como se puede visualizar a lo largo del proyecto, es muy importante realizar los pasos adecuados, realizar la preparación, entrenamiento, validación, evaluaciones de los modelos, así como también es importante realizar pruebas con diferentes y varios modelos para ver cual es el adecuado, puesto que en un análisis salga con buenos resultados, en otro tipo de análisis arroje resultado distinto, con en el caso que se sucitó en el presente proyecto, que al analizar los tiempos de respuesta en entrenamiento nos arroja resultados, resaltando ser mejor la regresión lineal y catboost, sin embargo, al analizar el RMSE, la calidad del modelo, nos arroja mejores resultados el modelo LightGBM. Lo que se busca es obtener en un modelo y en las predicciones que este realice es calidad, más que un buen tiempo de entrenamiento, por lo que se decidió seleccionar el modelo que arrojará mejores resultados en el RMSE."
   ]
  },
  {
   "cell_type": "markdown",
   "metadata": {},
   "source": [
    "# Lista de control"
   ]
  },
  {
   "cell_type": "markdown",
   "metadata": {},
   "source": [
    "Escribe 'x' para verificar. Luego presiona Shift+Enter"
   ]
  },
  {
   "cell_type": "markdown",
   "metadata": {},
   "source": [
    "- [x]  Jupyter Notebook está abierto\n",
    "- [x]  El código no tiene errores- [x]  Las celdas con el código han sido colocadas en orden de ejecución- [x]  Los datos han sido descargados y preparados- [x]  Los modelos han sido entrenados\n",
    "- [x]  Se realizó el análisis de velocidad y calidad de los modelos"
   ]
  }
 ],
 "metadata": {
  "ExecuteTimeLog": [
   {
    "duration": 853,
    "start_time": "2025-03-11T17:53:04.069Z"
   },
   {
    "duration": 464,
    "start_time": "2025-03-11T17:54:17.944Z"
   },
   {
    "duration": 16,
    "start_time": "2025-03-11T17:54:32.728Z"
   },
   {
    "duration": 10,
    "start_time": "2025-03-11T17:54:40.650Z"
   },
   {
    "duration": 92,
    "start_time": "2025-03-11T17:55:04.450Z"
   },
   {
    "duration": 61,
    "start_time": "2025-03-11T17:55:53.888Z"
   },
   {
    "duration": 80,
    "start_time": "2025-03-11T18:04:06.353Z"
   },
   {
    "duration": 13,
    "start_time": "2025-03-11T18:04:19.728Z"
   },
   {
    "duration": 3,
    "start_time": "2025-03-11T18:08:51.158Z"
   },
   {
    "duration": 3,
    "start_time": "2025-03-11T18:08:56.778Z"
   },
   {
    "duration": 8,
    "start_time": "2025-03-11T18:09:06.027Z"
   },
   {
    "duration": 78,
    "start_time": "2025-03-11T18:09:45.745Z"
   },
   {
    "duration": 81,
    "start_time": "2025-03-11T18:10:17.016Z"
   },
   {
    "duration": 87,
    "start_time": "2025-03-11T18:11:46.689Z"
   },
   {
    "duration": 5,
    "start_time": "2025-03-11T18:12:15.682Z"
   },
   {
    "duration": 84,
    "start_time": "2025-03-11T18:12:24.458Z"
   },
   {
    "duration": 80,
    "start_time": "2025-03-11T18:15:59.209Z"
   },
   {
    "duration": 206,
    "start_time": "2025-03-11T18:18:59.276Z"
   },
   {
    "duration": 240,
    "start_time": "2025-03-11T18:19:44.541Z"
   },
   {
    "duration": 233,
    "start_time": "2025-03-11T18:20:21.381Z"
   },
   {
    "duration": 252,
    "start_time": "2025-03-11T18:20:34.840Z"
   },
   {
    "duration": 254,
    "start_time": "2025-03-11T18:20:51.256Z"
   },
   {
    "duration": 205,
    "start_time": "2025-03-11T18:21:02.721Z"
   },
   {
    "duration": 5,
    "start_time": "2025-03-11T18:21:38.111Z"
   },
   {
    "duration": 3,
    "start_time": "2025-03-11T19:03:19.972Z"
   },
   {
    "duration": 92,
    "start_time": "2025-03-11T19:03:36.488Z"
   },
   {
    "duration": 43,
    "start_time": "2025-03-11T19:06:44.377Z"
   },
   {
    "duration": 254,
    "start_time": "2025-03-11T19:07:07.871Z"
   },
   {
    "duration": 41,
    "start_time": "2025-03-11T19:07:22.161Z"
   },
   {
    "duration": 43,
    "start_time": "2025-03-11T19:07:31.917Z"
   },
   {
    "duration": 33,
    "start_time": "2025-03-11T19:07:44.411Z"
   },
   {
    "duration": 29,
    "start_time": "2025-03-11T19:07:48.932Z"
   },
   {
    "duration": 40,
    "start_time": "2025-03-11T19:08:03.768Z"
   },
   {
    "duration": 32,
    "start_time": "2025-03-11T19:09:34.453Z"
   },
   {
    "duration": 38,
    "start_time": "2025-03-11T19:10:12.971Z"
   },
   {
    "duration": 868,
    "start_time": "2025-03-11T19:10:43.535Z"
   },
   {
    "duration": 409,
    "start_time": "2025-03-11T19:10:44.406Z"
   },
   {
    "duration": 15,
    "start_time": "2025-03-11T19:10:44.817Z"
   },
   {
    "duration": 126,
    "start_time": "2025-03-11T19:10:44.834Z"
   },
   {
    "duration": 69,
    "start_time": "2025-03-11T19:10:44.963Z"
   },
   {
    "duration": 92,
    "start_time": "2025-03-11T19:10:45.034Z"
   },
   {
    "duration": 88,
    "start_time": "2025-03-11T19:10:45.128Z"
   },
   {
    "duration": 221,
    "start_time": "2025-03-11T19:10:45.219Z"
   },
   {
    "duration": 254,
    "start_time": "2025-03-11T19:10:45.442Z"
   },
   {
    "duration": 225,
    "start_time": "2025-03-11T19:10:45.698Z"
   },
   {
    "duration": 5,
    "start_time": "2025-03-11T19:10:45.925Z"
   },
   {
    "duration": 42,
    "start_time": "2025-03-11T19:10:45.932Z"
   },
   {
    "duration": 4,
    "start_time": "2025-03-11T19:10:45.976Z"
   },
   {
    "duration": 86,
    "start_time": "2025-03-11T19:10:46.006Z"
   },
   {
    "duration": 170,
    "start_time": "2025-03-12T23:30:57.735Z"
   },
   {
    "duration": 802,
    "start_time": "2025-03-12T23:31:09.113Z"
   },
   {
    "duration": 446,
    "start_time": "2025-03-12T23:31:09.917Z"
   },
   {
    "duration": 16,
    "start_time": "2025-03-12T23:31:10.365Z"
   },
   {
    "duration": 113,
    "start_time": "2025-03-12T23:31:10.383Z"
   },
   {
    "duration": 68,
    "start_time": "2025-03-12T23:31:10.498Z"
   },
   {
    "duration": 95,
    "start_time": "2025-03-12T23:31:10.567Z"
   },
   {
    "duration": 86,
    "start_time": "2025-03-12T23:31:10.663Z"
   },
   {
    "duration": 218,
    "start_time": "2025-03-12T23:31:10.750Z"
   },
   {
    "duration": 270,
    "start_time": "2025-03-12T23:31:10.969Z"
   },
   {
    "duration": 229,
    "start_time": "2025-03-12T23:31:11.242Z"
   },
   {
    "duration": 6,
    "start_time": "2025-03-12T23:31:11.473Z"
   },
   {
    "duration": 57,
    "start_time": "2025-03-12T23:31:11.481Z"
   },
   {
    "duration": 3,
    "start_time": "2025-03-12T23:31:11.540Z"
   },
   {
    "duration": 98,
    "start_time": "2025-03-12T23:31:11.545Z"
   },
   {
    "duration": 28,
    "start_time": "2025-03-12T23:31:11.644Z"
   },
   {
    "duration": 7,
    "start_time": "2025-03-12T23:36:40.459Z"
   },
   {
    "duration": 155,
    "start_time": "2025-03-12T23:36:48.203Z"
   },
   {
    "duration": 144,
    "start_time": "2025-03-12T23:37:59.166Z"
   },
   {
    "duration": 134,
    "start_time": "2025-03-12T23:38:44.300Z"
   },
   {
    "duration": 233,
    "start_time": "2025-03-12T23:39:02.029Z"
   },
   {
    "duration": 133,
    "start_time": "2025-03-12T23:39:17.716Z"
   },
   {
    "duration": 234,
    "start_time": "2025-03-12T23:42:23.081Z"
   },
   {
    "duration": 7,
    "start_time": "2025-03-12T23:42:33.886Z"
   },
   {
    "duration": 83,
    "start_time": "2025-03-12T23:47:22.160Z"
   },
   {
    "duration": 3,
    "start_time": "2025-03-12T23:48:40.054Z"
   },
   {
    "duration": 51,
    "start_time": "2025-03-12T23:49:10.095Z"
   },
   {
    "duration": 3,
    "start_time": "2025-03-12T23:50:20.207Z"
   },
   {
    "duration": 33,
    "start_time": "2025-03-12T23:50:38.728Z"
   },
   {
    "duration": 36,
    "start_time": "2025-03-12T23:50:45.189Z"
   },
   {
    "duration": 40,
    "start_time": "2025-03-12T23:52:18.721Z"
   },
   {
    "duration": 41,
    "start_time": "2025-03-12T23:52:28.749Z"
   },
   {
    "duration": 42,
    "start_time": "2025-03-12T23:52:35.623Z"
   },
   {
    "duration": 34,
    "start_time": "2025-03-12T23:52:43.740Z"
   },
   {
    "duration": 84,
    "start_time": "2025-03-13T00:03:21.248Z"
   },
   {
    "duration": 3,
    "start_time": "2025-03-13T00:04:35.643Z"
   },
   {
    "duration": 62,
    "start_time": "2025-03-13T00:04:45.685Z"
   },
   {
    "duration": 51,
    "start_time": "2025-03-13T00:04:50.406Z"
   },
   {
    "duration": 40,
    "start_time": "2025-03-13T00:04:57.245Z"
   },
   {
    "duration": 49,
    "start_time": "2025-03-13T01:07:09.027Z"
   },
   {
    "duration": 3,
    "start_time": "2025-03-13T01:10:20.064Z"
   },
   {
    "duration": 3,
    "start_time": "2025-03-13T01:18:04.069Z"
   },
   {
    "duration": 33,
    "start_time": "2025-03-13T01:20:55.321Z"
   },
   {
    "duration": 41,
    "start_time": "2025-03-13T01:21:06.307Z"
   },
   {
    "duration": 60,
    "start_time": "2025-03-13T01:26:48.374Z"
   },
   {
    "duration": 41,
    "start_time": "2025-03-13T01:26:52.277Z"
   },
   {
    "duration": 40,
    "start_time": "2025-03-13T01:26:52.464Z"
   },
   {
    "duration": 3,
    "start_time": "2025-03-13T01:27:01.056Z"
   },
   {
    "duration": 3,
    "start_time": "2025-03-13T01:27:28.352Z"
   },
   {
    "duration": 36,
    "start_time": "2025-03-13T01:28:22.130Z"
   },
   {
    "duration": 3,
    "start_time": "2025-03-13T01:30:48.586Z"
   },
   {
    "duration": 39,
    "start_time": "2025-03-13T01:32:46.381Z"
   },
   {
    "duration": 801,
    "start_time": "2025-03-17T22:10:23.415Z"
   },
   {
    "duration": 478,
    "start_time": "2025-03-17T22:10:24.218Z"
   },
   {
    "duration": 16,
    "start_time": "2025-03-17T22:10:24.698Z"
   },
   {
    "duration": 112,
    "start_time": "2025-03-17T22:10:24.716Z"
   },
   {
    "duration": 67,
    "start_time": "2025-03-17T22:10:24.830Z"
   },
   {
    "duration": 96,
    "start_time": "2025-03-17T22:10:24.898Z"
   },
   {
    "duration": 84,
    "start_time": "2025-03-17T22:10:24.995Z"
   },
   {
    "duration": 226,
    "start_time": "2025-03-17T22:10:25.081Z"
   },
   {
    "duration": 240,
    "start_time": "2025-03-17T22:10:25.309Z"
   },
   {
    "duration": 216,
    "start_time": "2025-03-17T22:10:25.552Z"
   },
   {
    "duration": 5,
    "start_time": "2025-03-17T22:10:25.770Z"
   },
   {
    "duration": 39,
    "start_time": "2025-03-17T22:10:25.777Z"
   },
   {
    "duration": 4,
    "start_time": "2025-03-17T22:10:25.817Z"
   },
   {
    "duration": 101,
    "start_time": "2025-03-17T22:10:25.844Z"
   },
   {
    "duration": 37,
    "start_time": "2025-03-17T22:10:25.947Z"
   },
   {
    "duration": 154,
    "start_time": "2025-03-17T22:10:25.986Z"
   },
   {
    "duration": 7,
    "start_time": "2025-03-17T22:10:26.142Z"
   },
   {
    "duration": 69,
    "start_time": "2025-03-17T22:10:26.151Z"
   },
   {
    "duration": 62,
    "start_time": "2025-03-17T22:10:26.222Z"
   },
   {
    "duration": 4,
    "start_time": "2025-03-17T22:13:18.047Z"
   },
   {
    "duration": 5,
    "start_time": "2025-03-17T22:13:28.368Z"
   },
   {
    "duration": 45,
    "start_time": "2025-03-17T22:13:40.039Z"
   },
   {
    "duration": 77,
    "start_time": "2025-03-17T22:14:02.471Z"
   },
   {
    "duration": 0,
    "start_time": "2025-03-17T22:16:50.426Z"
   },
   {
    "duration": 866,
    "start_time": "2025-03-17T22:16:52.454Z"
   },
   {
    "duration": 409,
    "start_time": "2025-03-17T22:16:53.322Z"
   },
   {
    "duration": 19,
    "start_time": "2025-03-17T22:16:53.732Z"
   },
   {
    "duration": 95,
    "start_time": "2025-03-17T22:16:53.753Z"
   },
   {
    "duration": 57,
    "start_time": "2025-03-17T22:16:53.850Z"
   },
   {
    "duration": 102,
    "start_time": "2025-03-17T22:16:53.909Z"
   },
   {
    "duration": 88,
    "start_time": "2025-03-17T22:16:54.013Z"
   },
   {
    "duration": 243,
    "start_time": "2025-03-17T22:16:54.102Z"
   },
   {
    "duration": 240,
    "start_time": "2025-03-17T22:16:54.347Z"
   },
   {
    "duration": 214,
    "start_time": "2025-03-17T22:16:54.590Z"
   },
   {
    "duration": 6,
    "start_time": "2025-03-17T22:16:54.806Z"
   },
   {
    "duration": 57,
    "start_time": "2025-03-17T22:16:54.814Z"
   },
   {
    "duration": 5,
    "start_time": "2025-03-17T22:16:54.872Z"
   },
   {
    "duration": 89,
    "start_time": "2025-03-17T22:16:54.879Z"
   },
   {
    "duration": 28,
    "start_time": "2025-03-17T22:16:54.970Z"
   },
   {
    "duration": 164,
    "start_time": "2025-03-17T22:16:55.000Z"
   },
   {
    "duration": 9,
    "start_time": "2025-03-17T22:16:55.167Z"
   },
   {
    "duration": 98,
    "start_time": "2025-03-17T22:16:55.177Z"
   },
   {
    "duration": 71,
    "start_time": "2025-03-17T22:16:55.276Z"
   },
   {
    "duration": 39675,
    "start_time": "2025-03-17T22:16:55.349Z"
   },
   {
    "duration": 33244,
    "start_time": "2025-03-17T22:18:06.600Z"
   },
   {
    "duration": 4,
    "start_time": "2025-03-17T22:20:46.964Z"
   },
   {
    "duration": 4,
    "start_time": "2025-03-17T22:21:31.814Z"
   },
   {
    "duration": 3,
    "start_time": "2025-03-17T22:22:12.719Z"
   },
   {
    "duration": 11,
    "start_time": "2025-03-17T22:27:59.210Z"
   },
   {
    "duration": 512,
    "start_time": "2025-03-17T22:29:06.234Z"
   },
   {
    "duration": 171,
    "start_time": "2025-03-18T22:39:12.256Z"
   },
   {
    "duration": 940,
    "start_time": "2025-03-18T22:40:05.103Z"
   },
   {
    "duration": 81,
    "start_time": "2025-03-18T22:40:18.507Z"
   },
   {
    "duration": 3,
    "start_time": "2025-03-18T22:41:45.456Z"
   },
   {
    "duration": 16,
    "start_time": "2025-03-18T22:41:55.497Z"
   },
   {
    "duration": 14,
    "start_time": "2025-03-18T22:42:58.542Z"
   },
   {
    "duration": 15,
    "start_time": "2025-03-18T22:43:04.168Z"
   },
   {
    "duration": 911,
    "start_time": "2025-03-18T22:43:19.613Z"
   },
   {
    "duration": 450,
    "start_time": "2025-03-18T22:43:20.526Z"
   },
   {
    "duration": 19,
    "start_time": "2025-03-18T22:43:20.978Z"
   },
   {
    "duration": 107,
    "start_time": "2025-03-18T22:43:20.999Z"
   },
   {
    "duration": 59,
    "start_time": "2025-03-18T22:43:21.108Z"
   },
   {
    "duration": 104,
    "start_time": "2025-03-18T22:43:21.169Z"
   },
   {
    "duration": 89,
    "start_time": "2025-03-18T22:43:21.276Z"
   },
   {
    "duration": 220,
    "start_time": "2025-03-18T22:43:21.367Z"
   },
   {
    "duration": 254,
    "start_time": "2025-03-18T22:43:21.589Z"
   },
   {
    "duration": 220,
    "start_time": "2025-03-18T22:43:21.844Z"
   },
   {
    "duration": 5,
    "start_time": "2025-03-18T22:43:22.067Z"
   },
   {
    "duration": 47,
    "start_time": "2025-03-18T22:43:22.074Z"
   },
   {
    "duration": 4,
    "start_time": "2025-03-18T22:43:22.123Z"
   },
   {
    "duration": 93,
    "start_time": "2025-03-18T22:43:22.131Z"
   },
   {
    "duration": 27,
    "start_time": "2025-03-18T22:43:22.226Z"
   },
   {
    "duration": 164,
    "start_time": "2025-03-18T22:43:22.255Z"
   },
   {
    "duration": 6,
    "start_time": "2025-03-18T22:43:22.421Z"
   },
   {
    "duration": 86,
    "start_time": "2025-03-18T22:43:22.429Z"
   },
   {
    "duration": 74,
    "start_time": "2025-03-18T22:43:22.517Z"
   },
   {
    "duration": 41503,
    "start_time": "2025-03-18T22:43:22.592Z"
   },
   {
    "duration": 0,
    "start_time": "2025-03-18T22:44:37.438Z"
   },
   {
    "duration": 0,
    "start_time": "2025-03-18T22:44:37.440Z"
   },
   {
    "duration": 0,
    "start_time": "2025-03-18T22:44:37.441Z"
   },
   {
    "duration": 0,
    "start_time": "2025-03-18T22:44:37.443Z"
   },
   {
    "duration": 0,
    "start_time": "2025-03-18T22:44:37.444Z"
   },
   {
    "duration": 0,
    "start_time": "2025-03-18T22:44:37.447Z"
   },
   {
    "duration": 0,
    "start_time": "2025-03-18T22:44:37.448Z"
   },
   {
    "duration": 917,
    "start_time": "2025-03-18T22:44:46.508Z"
   },
   {
    "duration": 413,
    "start_time": "2025-03-18T22:44:47.427Z"
   },
   {
    "duration": 18,
    "start_time": "2025-03-18T22:44:47.842Z"
   },
   {
    "duration": 105,
    "start_time": "2025-03-18T22:44:47.862Z"
   },
   {
    "duration": 91,
    "start_time": "2025-03-18T22:44:47.969Z"
   },
   {
    "duration": 93,
    "start_time": "2025-03-18T22:44:48.062Z"
   },
   {
    "duration": 85,
    "start_time": "2025-03-18T22:44:48.158Z"
   },
   {
    "duration": 221,
    "start_time": "2025-03-18T22:44:48.245Z"
   },
   {
    "duration": 248,
    "start_time": "2025-03-18T22:44:48.468Z"
   },
   {
    "duration": 216,
    "start_time": "2025-03-18T22:44:48.719Z"
   },
   {
    "duration": 5,
    "start_time": "2025-03-18T22:44:48.937Z"
   },
   {
    "duration": 50,
    "start_time": "2025-03-18T22:44:48.944Z"
   },
   {
    "duration": 4,
    "start_time": "2025-03-18T22:44:48.995Z"
   },
   {
    "duration": 95,
    "start_time": "2025-03-18T22:44:49.001Z"
   },
   {
    "duration": 28,
    "start_time": "2025-03-18T22:44:49.098Z"
   },
   {
    "duration": 158,
    "start_time": "2025-03-18T22:44:49.128Z"
   },
   {
    "duration": 7,
    "start_time": "2025-03-18T22:44:49.288Z"
   },
   {
    "duration": 73,
    "start_time": "2025-03-18T22:44:49.297Z"
   },
   {
    "duration": 58,
    "start_time": "2025-03-18T22:44:49.372Z"
   },
   {
    "duration": 40561,
    "start_time": "2025-03-18T22:44:49.432Z"
   },
   {
    "duration": 957,
    "start_time": "2025-03-18T22:45:42.997Z"
   },
   {
    "duration": 415,
    "start_time": "2025-03-18T22:45:43.957Z"
   },
   {
    "duration": 19,
    "start_time": "2025-03-18T22:45:44.374Z"
   },
   {
    "duration": 107,
    "start_time": "2025-03-18T22:45:44.396Z"
   },
   {
    "duration": 61,
    "start_time": "2025-03-18T22:45:44.505Z"
   },
   {
    "duration": 107,
    "start_time": "2025-03-18T22:45:44.568Z"
   },
   {
    "duration": 92,
    "start_time": "2025-03-18T22:45:44.676Z"
   },
   {
    "duration": 231,
    "start_time": "2025-03-18T22:45:44.771Z"
   },
   {
    "duration": 257,
    "start_time": "2025-03-18T22:45:45.004Z"
   },
   {
    "duration": 218,
    "start_time": "2025-03-18T22:45:45.265Z"
   },
   {
    "duration": 5,
    "start_time": "2025-03-18T22:45:45.487Z"
   },
   {
    "duration": 38,
    "start_time": "2025-03-18T22:45:45.495Z"
   },
   {
    "duration": 3,
    "start_time": "2025-03-18T22:45:45.535Z"
   },
   {
    "duration": 105,
    "start_time": "2025-03-18T22:45:45.540Z"
   },
   {
    "duration": 28,
    "start_time": "2025-03-18T22:45:45.647Z"
   },
   {
    "duration": 153,
    "start_time": "2025-03-18T22:45:45.677Z"
   },
   {
    "duration": 7,
    "start_time": "2025-03-18T22:45:45.832Z"
   },
   {
    "duration": 89,
    "start_time": "2025-03-18T22:45:45.842Z"
   },
   {
    "duration": 74,
    "start_time": "2025-03-18T22:45:45.933Z"
   },
   {
    "duration": 41096,
    "start_time": "2025-03-18T22:45:46.009Z"
   },
   {
    "duration": 4,
    "start_time": "2025-03-18T22:47:00.290Z"
   },
   {
    "duration": 4,
    "start_time": "2025-03-18T22:47:00.295Z"
   },
   {
    "duration": 12,
    "start_time": "2025-03-18T22:47:00.300Z"
   },
   {
    "duration": 673,
    "start_time": "2025-03-18T22:47:00.314Z"
   },
   {
    "duration": 32989,
    "start_time": "2025-03-18T23:05:24.723Z"
   },
   {
    "duration": 4,
    "start_time": "2025-03-18T23:05:57.797Z"
   },
   {
    "duration": 241,
    "start_time": "2025-03-18T23:07:46.601Z"
   },
   {
    "duration": 10128,
    "start_time": "2025-03-18T23:11:53.484Z"
   },
   {
    "duration": 10107,
    "start_time": "2025-03-18T23:12:38.970Z"
   },
   {
    "duration": 10193,
    "start_time": "2025-03-18T23:20:49.700Z"
   },
   {
    "duration": 5,
    "start_time": "2025-03-18T23:22:56.668Z"
   },
   {
    "duration": 4,
    "start_time": "2025-03-18T23:23:51.427Z"
   },
   {
    "duration": 4,
    "start_time": "2025-03-18T23:24:02.147Z"
   },
   {
    "duration": 4,
    "start_time": "2025-03-18T23:24:05.097Z"
   },
   {
    "duration": 4,
    "start_time": "2025-03-18T23:24:06.629Z"
   },
   {
    "duration": 5,
    "start_time": "2025-03-18T23:24:07.634Z"
   },
   {
    "duration": 8,
    "start_time": "2025-03-18T23:24:14.645Z"
   },
   {
    "duration": 521,
    "start_time": "2025-03-18T23:24:15.572Z"
   },
   {
    "duration": 966,
    "start_time": "2025-03-18T23:50:45.788Z"
   },
   {
    "duration": 568,
    "start_time": "2025-03-18T23:50:46.757Z"
   },
   {
    "duration": 18,
    "start_time": "2025-03-18T23:50:47.327Z"
   },
   {
    "duration": 126,
    "start_time": "2025-03-18T23:50:47.347Z"
   },
   {
    "duration": 67,
    "start_time": "2025-03-18T23:50:47.477Z"
   },
   {
    "duration": 105,
    "start_time": "2025-03-18T23:50:47.546Z"
   },
   {
    "duration": 117,
    "start_time": "2025-03-18T23:50:47.653Z"
   },
   {
    "duration": 275,
    "start_time": "2025-03-18T23:50:47.772Z"
   },
   {
    "duration": 328,
    "start_time": "2025-03-18T23:50:48.049Z"
   },
   {
    "duration": 243,
    "start_time": "2025-03-18T23:50:48.379Z"
   },
   {
    "duration": 7,
    "start_time": "2025-03-18T23:50:48.624Z"
   },
   {
    "duration": 55,
    "start_time": "2025-03-18T23:50:48.633Z"
   },
   {
    "duration": 4,
    "start_time": "2025-03-18T23:50:48.691Z"
   },
   {
    "duration": 102,
    "start_time": "2025-03-18T23:50:48.700Z"
   },
   {
    "duration": 33,
    "start_time": "2025-03-18T23:50:48.804Z"
   },
   {
    "duration": 170,
    "start_time": "2025-03-18T23:50:48.839Z"
   },
   {
    "duration": 9,
    "start_time": "2025-03-18T23:50:49.012Z"
   },
   {
    "duration": 105,
    "start_time": "2025-03-18T23:50:49.025Z"
   },
   {
    "duration": 162,
    "start_time": "2025-03-18T23:50:49.133Z"
   },
   {
    "duration": 45047,
    "start_time": "2025-03-18T23:50:49.298Z"
   },
   {
    "duration": 36251,
    "start_time": "2025-03-18T23:51:34.347Z"
   },
   {
    "duration": 10468,
    "start_time": "2025-03-18T23:52:10.603Z"
   },
   {
    "duration": 5,
    "start_time": "2025-03-18T23:52:21.073Z"
   },
   {
    "duration": 5,
    "start_time": "2025-03-18T23:52:21.079Z"
   },
   {
    "duration": 4,
    "start_time": "2025-03-18T23:52:21.086Z"
   },
   {
    "duration": 5,
    "start_time": "2025-03-18T23:52:21.092Z"
   },
   {
    "duration": 8,
    "start_time": "2025-03-18T23:52:21.100Z"
   },
   {
    "duration": 603,
    "start_time": "2025-03-18T23:52:21.109Z"
   },
   {
    "duration": 33108,
    "start_time": "2025-03-18T23:56:19.389Z"
   },
   {
    "duration": 96,
    "start_time": "2025-03-18T23:56:52.499Z"
   },
   {
    "duration": 993,
    "start_time": "2025-03-19T04:34:17.580Z"
   },
   {
    "duration": 495,
    "start_time": "2025-03-19T04:34:18.575Z"
   },
   {
    "duration": 14,
    "start_time": "2025-03-19T04:34:20.689Z"
   },
   {
    "duration": 101,
    "start_time": "2025-03-19T04:34:20.930Z"
   },
   {
    "duration": 63,
    "start_time": "2025-03-19T04:34:21.225Z"
   },
   {
    "duration": 90,
    "start_time": "2025-03-19T04:34:21.434Z"
   },
   {
    "duration": 82,
    "start_time": "2025-03-19T04:34:21.968Z"
   },
   {
    "duration": 229,
    "start_time": "2025-03-19T04:34:22.869Z"
   },
   {
    "duration": 260,
    "start_time": "2025-03-19T04:34:23.864Z"
   },
   {
    "duration": 213,
    "start_time": "2025-03-19T04:34:24.694Z"
   },
   {
    "duration": 5,
    "start_time": "2025-03-19T04:34:25.193Z"
   },
   {
    "duration": 39,
    "start_time": "2025-03-19T04:34:25.678Z"
   },
   {
    "duration": 3,
    "start_time": "2025-03-19T04:34:27.298Z"
   },
   {
    "duration": 88,
    "start_time": "2025-03-19T04:34:27.581Z"
   },
   {
    "duration": 35,
    "start_time": "2025-03-19T04:34:28.214Z"
   },
   {
    "duration": 158,
    "start_time": "2025-03-19T04:34:29.181Z"
   },
   {
    "duration": 7,
    "start_time": "2025-03-19T04:34:29.831Z"
   },
   {
    "duration": 11,
    "start_time": "2025-03-19T04:34:53.437Z"
   },
   {
    "duration": 163,
    "start_time": "2025-03-19T17:30:20.535Z"
   },
   {
    "duration": 874,
    "start_time": "2025-03-19T17:30:33.556Z"
   },
   {
    "duration": 468,
    "start_time": "2025-03-19T17:30:34.432Z"
   },
   {
    "duration": 15,
    "start_time": "2025-03-19T17:30:34.903Z"
   },
   {
    "duration": 97,
    "start_time": "2025-03-19T17:30:34.919Z"
   },
   {
    "duration": 72,
    "start_time": "2025-03-19T17:30:35.019Z"
   },
   {
    "duration": 94,
    "start_time": "2025-03-19T17:30:35.093Z"
   },
   {
    "duration": 87,
    "start_time": "2025-03-19T17:30:35.189Z"
   },
   {
    "duration": 210,
    "start_time": "2025-03-19T17:30:35.288Z"
   },
   {
    "duration": 244,
    "start_time": "2025-03-19T17:30:35.500Z"
   },
   {
    "duration": 217,
    "start_time": "2025-03-19T17:30:35.745Z"
   },
   {
    "duration": 5,
    "start_time": "2025-03-19T17:30:35.964Z"
   },
   {
    "duration": 51,
    "start_time": "2025-03-19T17:30:35.970Z"
   },
   {
    "duration": 3,
    "start_time": "2025-03-19T17:30:36.023Z"
   },
   {
    "duration": 96,
    "start_time": "2025-03-19T17:30:36.030Z"
   },
   {
    "duration": 27,
    "start_time": "2025-03-19T17:30:36.128Z"
   },
   {
    "duration": 154,
    "start_time": "2025-03-19T17:30:36.157Z"
   },
   {
    "duration": 6,
    "start_time": "2025-03-19T17:30:36.313Z"
   },
   {
    "duration": 88,
    "start_time": "2025-03-19T17:30:36.320Z"
   },
   {
    "duration": 93,
    "start_time": "2025-03-19T17:30:36.410Z"
   },
   {
    "duration": 40132,
    "start_time": "2025-03-19T17:30:36.504Z"
   },
   {
    "duration": 33952,
    "start_time": "2025-03-19T17:31:16.638Z"
   },
   {
    "duration": 10239,
    "start_time": "2025-03-19T17:31:50.593Z"
   },
   {
    "duration": 4,
    "start_time": "2025-03-19T17:32:00.834Z"
   },
   {
    "duration": 5,
    "start_time": "2025-03-19T17:32:00.840Z"
   },
   {
    "duration": 4,
    "start_time": "2025-03-19T17:32:00.847Z"
   },
   {
    "duration": 5,
    "start_time": "2025-03-19T17:32:00.852Z"
   },
   {
    "duration": 28,
    "start_time": "2025-03-19T17:32:00.859Z"
   },
   {
    "duration": 607,
    "start_time": "2025-03-19T17:32:00.890Z"
   },
   {
    "duration": 34,
    "start_time": "2025-03-19T17:32:29.285Z"
   },
   {
    "duration": 133,
    "start_time": "2025-03-19T17:37:30.840Z"
   },
   {
    "duration": 12,
    "start_time": "2025-03-19T17:38:20.335Z"
   },
   {
    "duration": 39,
    "start_time": "2025-03-19T17:39:00.282Z"
   },
   {
    "duration": 915,
    "start_time": "2025-03-19T17:40:15.001Z"
   },
   {
    "duration": 410,
    "start_time": "2025-03-19T17:40:15.918Z"
   },
   {
    "duration": 15,
    "start_time": "2025-03-19T17:40:16.330Z"
   },
   {
    "duration": 104,
    "start_time": "2025-03-19T17:40:16.346Z"
   },
   {
    "duration": 69,
    "start_time": "2025-03-19T17:40:16.452Z"
   },
   {
    "duration": 97,
    "start_time": "2025-03-19T17:40:16.522Z"
   },
   {
    "duration": 85,
    "start_time": "2025-03-19T17:40:16.621Z"
   },
   {
    "duration": 223,
    "start_time": "2025-03-19T17:40:16.707Z"
   },
   {
    "duration": 264,
    "start_time": "2025-03-19T17:40:16.932Z"
   },
   {
    "duration": 217,
    "start_time": "2025-03-19T17:40:17.198Z"
   },
   {
    "duration": 4,
    "start_time": "2025-03-19T17:40:17.417Z"
   },
   {
    "duration": 38,
    "start_time": "2025-03-19T17:40:17.423Z"
   },
   {
    "duration": 24,
    "start_time": "2025-03-19T17:40:17.463Z"
   },
   {
    "duration": 83,
    "start_time": "2025-03-19T17:40:17.491Z"
   },
   {
    "duration": 35,
    "start_time": "2025-03-19T17:40:17.576Z"
   },
   {
    "duration": 146,
    "start_time": "2025-03-19T17:40:17.613Z"
   },
   {
    "duration": 6,
    "start_time": "2025-03-19T17:40:17.761Z"
   },
   {
    "duration": 81,
    "start_time": "2025-03-19T17:40:17.769Z"
   },
   {
    "duration": 53,
    "start_time": "2025-03-19T17:40:17.854Z"
   },
   {
    "duration": 40039,
    "start_time": "2025-03-19T17:40:17.909Z"
   },
   {
    "duration": 35266,
    "start_time": "2025-03-19T17:40:57.950Z"
   },
   {
    "duration": 10021,
    "start_time": "2025-03-19T17:41:33.288Z"
   },
   {
    "duration": 4,
    "start_time": "2025-03-19T17:41:43.310Z"
   },
   {
    "duration": 4,
    "start_time": "2025-03-19T17:41:43.316Z"
   },
   {
    "duration": 4,
    "start_time": "2025-03-19T17:41:43.321Z"
   },
   {
    "duration": 3,
    "start_time": "2025-03-19T17:41:43.326Z"
   },
   {
    "duration": 8,
    "start_time": "2025-03-19T17:41:43.331Z"
   },
   {
    "duration": 665,
    "start_time": "2025-03-19T17:41:43.340Z"
   }
  ],
  "kernelspec": {
   "display_name": "Python 3 (ipykernel)",
   "language": "python",
   "name": "python3"
  },
  "language_info": {
   "codemirror_mode": {
    "name": "ipython",
    "version": 3
   },
   "file_extension": ".py",
   "mimetype": "text/x-python",
   "name": "python",
   "nbconvert_exporter": "python",
   "pygments_lexer": "ipython3",
   "version": "3.9.19"
  },
  "toc": {
   "base_numbering": 1,
   "nav_menu": {},
   "number_sections": true,
   "sideBar": true,
   "skip_h1_title": true,
   "title_cell": "Table of Contents",
   "title_sidebar": "Contents",
   "toc_cell": false,
   "toc_position": {},
   "toc_section_display": true,
   "toc_window_display": false
  }
 },
 "nbformat": 4,
 "nbformat_minor": 2
}
